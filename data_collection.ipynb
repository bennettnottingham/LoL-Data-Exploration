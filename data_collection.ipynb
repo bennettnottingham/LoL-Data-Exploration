{
 "cells": [
  {
   "cell_type": "code",
   "execution_count": 1,
   "metadata": {},
   "outputs": [],
   "source": [
    "# Import libraries\n",
    "\n",
    "import pandas as pd"
   ]
  },
  {
   "cell_type": "code",
   "execution_count": 9,
   "metadata": {},
   "outputs": [],
   "source": [
    "# Read in the data\n",
    "\n",
    "LCS = pd.read_csv(r'C:\\Users\\benne\\Downloads\\LCS_Spring.csv')\n",
    "LEC = pd.read_csv(r'C:\\Users\\benne\\Downloads\\LEC_Spring.csv')\n",
    "LCK = pd.read_csv(r'C:\\Users\\benne\\Downloads\\LCK_Spring.csv')\n",
    "LPL = pd.read_csv(r'C:\\Users\\benne\\Downloads\\LPL_Spring.csv')"
   ]
  },
  {
   "cell_type": "code",
   "execution_count": 10,
   "metadata": {},
   "outputs": [],
   "source": [
    "# Assign regions to each dataframe before we merge\n",
    "\n",
    "LCS = LCS.assign(Region='LCS')\n",
    "LEC = LEC.assign(Region='LEC')\n",
    "LCK = LCK.assign(Region='LCK')\n",
    "LPL = LPL.assign(Region='LPL')"
   ]
  },
  {
   "cell_type": "code",
   "execution_count": 11,
   "metadata": {},
   "outputs": [],
   "source": [
    "# Combine dataframes\n",
    "\n",
    "data = pd.concat([LCK, LCS, LEC, LPL], axis=0)"
   ]
  },
  {
   "cell_type": "code",
   "execution_count": 15,
   "metadata": {},
   "outputs": [],
   "source": [
    "data.to_csv('league_stats.csv', index=False)"
   ]
  }
 ],
 "metadata": {
  "kernelspec": {
   "display_name": "base",
   "language": "python",
   "name": "python3"
  },
  "language_info": {
   "codemirror_mode": {
    "name": "ipython",
    "version": 3
   },
   "file_extension": ".py",
   "mimetype": "text/x-python",
   "name": "python",
   "nbconvert_exporter": "python",
   "pygments_lexer": "ipython3",
   "version": "3.9.13"
  },
  "orig_nbformat": 4
 },
 "nbformat": 4,
 "nbformat_minor": 2
}
